{
  "nbformat": 4,
  "nbformat_minor": 0,
  "metadata": {
    "colab": {
      "name": "python and network security project.ipynb",
      "provenance": []
    },
    "kernelspec": {
      "name": "python3",
      "display_name": "Python 3"
    },
    "language_info": {
      "name": "python"
    }
  },
  "cells": [
    {
      "cell_type": "code",
      "metadata": {
        "colab": {
          "base_uri": "https://localhost:8080/"
        },
        "id": "mFAj7aSfvg0X",
        "outputId": "6d19a0b0-9852-427f-9603-8c2d1cec494a"
      },
      "source": [
        "import hashlib\n",
        "text = input(\"enter the text\")\n",
        "\n",
        "hash_object = hashlib.md5(text.encode())\n",
        "md5_hash = hash_object.hexdigest()\n",
        "print(md5_hash)"
      ],
      "execution_count": 8,
      "outputs": [
        {
          "output_type": "stream",
          "text": [
            "enter the textvamsi\n",
            "032f5eb8ce991a153d7057c4651ea671\n"
          ],
          "name": "stdout"
        }
      ]
    }
  ]
}